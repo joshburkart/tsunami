{
 "cells": [
  {
   "cell_type": "code",
   "execution_count": 1,
   "metadata": {},
   "outputs": [
    {
     "name": "stdout",
     "output_type": "stream",
     "text": [
      "🔗 Found pyo3 bindings\n",
      "🐍 Found CPython 3.11 at /Users/josh/josh/projects/tech/flow/.venv/bin/python\n",
      "💻 Using `MACOSX_DEPLOYMENT_TARGET=10.7` for x86_64-apple-darwin by default\n",
      "\u001b[0m\u001b[0m\u001b[1m\u001b[32m   Compiling\u001b[0m flow v0.1.0 (/Users/josh/josh/projects/tech/flow)\n",
      "\u001b[K\u001b[0m\u001b[0m\u001b[1m\u001b[32m    Finished\u001b[0m release [optimized + debuginfo] target(s) in 13.08s              \n",
      "📦 Built wheel for CPython 3.11 to /var/folders/w9/c8qym84j2pg4fjvx_bzr84bc0000gn/T/.tmp91fT7W/flow-0.1.0-cp311-cp311-macosx_10_7_x86_64.whl\n",
      "🛠 Installed flow-0.1.0\n"
     ]
    }
   ],
   "source": [
    "!CXXFLAGS+=-stdlib=libc++ maturin develop --release"
   ]
  },
  {
   "cell_type": "code",
   "execution_count": 4,
   "metadata": {},
   "outputs": [
    {
     "name": "stderr",
     "output_type": "stream",
     "text": [
      "dt: 0.000000001:  72%|███████▏  | 3612698928/5000000000 [01:53<00:50, 27244595.95it/s]Traceback (most recent call last):\n",
      "  File \"/var/folders/w9/c8qym84j2pg4fjvx_bzr84bc0000gn/T/ipykernel_38865/4063807634.py\", line 107, in <module>\n",
      "    raise ValueError(f\"CFL is approaching zero at x={x} y={y} z={z} where v={v}\")\n",
      "ValueError: CFL is approaching zero at x=2.205 y=0.005 z=0.7125280820882652 where v=[-4.18968138e+05  4.85736457e-09 -4.76548011e+05]\n",
      "dt: 0.000000001:  72%|███████▏  | 3612698929/5000000000 [01:53<00:43, 31935480.20it/s]\n"
     ]
    },
    {
     "data": {
      "text/html": [
       "<video src=\"videos/hill_1d.mp4\" controls  >\n",
       "      Your browser does not support the <code>video</code> element.\n",
       "    </video>"
      ],
      "text/plain": [
       "<IPython.core.display.Video object>"
      ]
     },
     "metadata": {},
     "output_type": "display_data"
    }
   ],
   "source": [
    "import traceback\n",
    "\n",
    "import contextplot\n",
    "import matplotlib\n",
    "import matplotlib.collections\n",
    "import matplotlib.patches\n",
    "import numpy as np\n",
    "import tqdm\n",
    "\n",
    "import flow\n",
    "\n",
    "contextplot.set_defaults()\n",
    "\n",
    "NS_PER_S = 1e9\n",
    "\n",
    "num_cells = 100\n",
    "num_z_cells = 5\n",
    "kinematic_viscosity = 0.01\n",
    "\n",
    "# example = 'bump_1d'\n",
    "# amplitude = 0.2\n",
    "# width = 0.2\n",
    "# t_max = 5\n",
    "# solver = getattr(flow, example)(num_cells, num_z_cells, kinematic_viscosity, amplitude, width)\n",
    "\n",
    "example = 'hill_1d'\n",
    "height = 0.4\n",
    "t_max = 5\n",
    "solver = getattr(flow, example)(num_cells, num_z_cells, kinematic_viscosity, height)\n",
    "\n",
    "x_vertices = solver.grid.x_axis.vertices\n",
    "x_centers = solver.grid.x_axis.centers\n",
    "\n",
    "dt_max = 0.01\n",
    "frame_rate_hz = 30\n",
    "t_max_ns = int(t_max * NS_PER_S)\n",
    "speedup_factor = 0.5\n",
    "\n",
    "courant_margin = 20\n",
    "dt_plot_ns = int(1 / frame_rate_hz * speedup_factor * NS_PER_S)\n",
    "\n",
    "def frame_index(t_ns: int):\n",
    "    return t_ns // dt_plot_ns\n",
    "\n",
    "with contextplot.context_video(f'videos/{example}.mp4', 1, size_inches=(6.5, 3), dpi=300, frame_rate_hz=frame_rate_hz) as cv:\n",
    "    try:\n",
    "        t_ns = 0\n",
    "        bar = tqdm.tqdm(total=t_max_ns)\n",
    "        should_plot = True\n",
    "        while t_ns < t_max_ns:\n",
    "            if should_plot:\n",
    "                with cv.next_frame() as cp:\n",
    "                    z_lattice = solver.z_lattice\n",
    "                    pressure = solver.pressure\n",
    "                    velocity = solver.velocity\n",
    "\n",
    "                    poly_verts = []\n",
    "                    pressures = []\n",
    "                    for i in range(z_lattice.shape[0] - 1):\n",
    "                        for j in range(z_lattice.shape[2] - 1):\n",
    "                            poly_verts.append([\n",
    "                                [x_vertices[i], z_lattice[i, 0, j]],\n",
    "                                [x_vertices[i + 1], z_lattice[i + 1, 0, j]],\n",
    "                                [x_vertices[i + 1], z_lattice[i + 1, 0, j + 1]],\n",
    "                                [x_vertices[i], z_lattice[i, 0, j + 1]],\n",
    "                            ])\n",
    "                            pressures.append(pressure[i, 0, j, 1])\n",
    "                    poly_collection = matplotlib.collections.PolyCollection(\n",
    "                        poly_verts,\n",
    "                        closed=True,\n",
    "                        array=pressures,\n",
    "                        cmap=matplotlib.cm.viridis,\n",
    "                        edgecolors='black',\n",
    "                        linewidth=0.,\n",
    "                        snap=True,\n",
    "                        norm=matplotlib.colors.Normalize(vmin=0, vmax=5),\n",
    "                    )\n",
    "                    outs = cp.ax_raw.add_collection(poly_collection)\n",
    "                    _ = cp.figure.colorbar(outs, label='Kinematic pressure')\n",
    "\n",
    "                    cp.ax.quiver(\n",
    "                        np.broadcast_to(x_centers[:, np.newaxis], z_lattice[:-1, 0, :-1].shape),\n",
    "                        0.25 * (z_lattice[:-1, 0, :-1] + z_lattice[1:, 0, :-1] + z_lattice[:-1, 0, 1:] + z_lattice[1:, 0, 1:]),\n",
    "                        velocity[:, 0, :, 0, 0],\n",
    "                        velocity[:, 0, :, 0, 2],\n",
    "                        pivot='tail',\n",
    "                        scale=10,  # Bigger means shorter arrows.\n",
    "                        scale_units='inches',\n",
    "                        alpha=0.6,\n",
    "                    )\n",
    "\n",
    "                    cp.ax.set(\n",
    "                        xlim=[solver.grid.x_axis.vertices[0], solver.grid.x_axis.vertices[-1]],\n",
    "                        ylim=[0, 1.5],\n",
    "                        aspect='equal',\n",
    "                        title=f'{example}, t = {t_ns / NS_PER_S:.3f} s',\n",
    "                    )\n",
    "\n",
    "            courant_dt = solver.courant_dt\n",
    "            dt_ns = int(min(dt_max, courant_dt.min() / courant_margin) * NS_PER_S)\n",
    "            if dt_ns == 0:\n",
    "                index = np.unravel_index(courant_dt.argmin(), courant_dt.shape)\n",
    "                x = solver.grid.x_axis.centers[index[0]]\n",
    "                y = solver.grid.y_axis.centers[index[1]]\n",
    "                z = solver.z_lattice[index[0], index[1], index[2]]\n",
    "                v = solver.velocity[*index]\n",
    "                raise ValueError(f\"CFL is approaching zero at x={x} y={y} z={z} where v={v}\")\n",
    "\n",
    "            current_frame_index = frame_index(t_ns=t_ns)\n",
    "            future_frame_index = frame_index(t_ns=t_ns + dt_ns)\n",
    "            if current_frame_index != future_frame_index:\n",
    "                dt_ns = (current_frame_index + 1) * dt_plot_ns - t_ns\n",
    "                should_plot = True\n",
    "            else:\n",
    "                should_plot = False\n",
    "            \n",
    "            bar.set_description(f'dt: {dt_ns / NS_PER_S:.9f}')\n",
    "\n",
    "            solver.step(dt_ns / NS_PER_S)\n",
    "            t_ns += dt_ns\n",
    "            if t_ns > t_max_ns:\n",
    "                break\n",
    "            _ = bar.update(dt_ns)\n",
    "    except KeyboardInterrupt:\n",
    "        pass\n",
    "    except BaseException:\n",
    "        traceback.print_exc()\n",
    "    finally:\n",
    "        bar.close()"
   ]
  },
  {
   "cell_type": "code",
   "execution_count": null,
   "metadata": {},
   "outputs": [],
   "source": []
  }
 ],
 "metadata": {
  "kernelspec": {
   "display_name": "Python 3 (ipykernel)",
   "language": "python",
   "name": "python3"
  },
  "language_info": {
   "codemirror_mode": {
    "name": "ipython",
    "version": 3
   },
   "file_extension": ".py",
   "mimetype": "text/x-python",
   "name": "python",
   "nbconvert_exporter": "python",
   "pygments_lexer": "ipython3",
   "version": "3.11.3"
  }
 },
 "nbformat": 4,
 "nbformat_minor": 4
}
