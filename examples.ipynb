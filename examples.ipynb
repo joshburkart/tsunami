{
 "cells": [
  {
   "cell_type": "code",
   "execution_count": 1,
   "metadata": {},
   "outputs": [
    {
     "name": "stdout",
     "output_type": "stream",
     "text": [
      "🔗 Found pyo3 bindings\n",
      "🐍 Found CPython 3.11 at /Users/josh/josh/projects/tech/flow/.venv/bin/python\n",
      "💻 Using `MACOSX_DEPLOYMENT_TARGET=10.7` for x86_64-apple-darwin by default\n",
      "\u001b[0m\u001b[0m\u001b[1m\u001b[32m   Compiling\u001b[0m flow v0.1.0 (/Users/josh/josh/projects/tech/flow)\n",
      "\u001b[K\u001b[0m\u001b[1m\u001b[33mwarning\u001b[0m\u001b[0m\u001b[1m: unused variable: `velocity_cell_value`\u001b[0m                    \n",
      "\u001b[0m    \u001b[0m\u001b[0m\u001b[1m\u001b[38;5;12m--> \u001b[0m\u001b[0msrc/fields.rs:1045:5\u001b[0m\n",
      "\u001b[0m     \u001b[0m\u001b[0m\u001b[1m\u001b[38;5;12m|\u001b[0m\n",
      "\u001b[0m\u001b[1m\u001b[38;5;12m1045\u001b[0m\u001b[0m \u001b[0m\u001b[0m\u001b[1m\u001b[38;5;12m|\u001b[0m\u001b[0m \u001b[0m\u001b[0m    velocity_cell_value: Vector3,\u001b[0m\n",
      "\u001b[0m     \u001b[0m\u001b[0m\u001b[1m\u001b[38;5;12m| \u001b[0m\u001b[0m    \u001b[0m\u001b[0m\u001b[1m\u001b[33m^^^^^^^^^^^^^^^^^^^\u001b[0m\u001b[0m \u001b[0m\u001b[0m\u001b[1m\u001b[33mhelp: if this is intentional, prefix it with an underscore: `_velocity_cell_value`\u001b[0m\n",
      "\u001b[0m     \u001b[0m\u001b[0m\u001b[1m\u001b[38;5;12m|\u001b[0m\n",
      "\u001b[0m     \u001b[0m\u001b[0m\u001b[1m\u001b[38;5;12m= \u001b[0m\u001b[0m\u001b[1mnote\u001b[0m\u001b[0m: `#[warn(unused_variables)]` on by default\u001b[0m\n",
      "\n",
      "\u001b[K\u001b[0m\u001b[1m\u001b[33mwarning\u001b[0m\u001b[0m\u001b[1m: unused variable: `outward_normal`\u001b[0mw                        \n",
      "\u001b[0m    \u001b[0m\u001b[0m\u001b[1m\u001b[38;5;12m--> \u001b[0m\u001b[0msrc/fields.rs:1047:5\u001b[0m\n",
      "\u001b[0m     \u001b[0m\u001b[0m\u001b[1m\u001b[38;5;12m|\u001b[0m\n",
      "\u001b[0m\u001b[1m\u001b[38;5;12m1047\u001b[0m\u001b[0m \u001b[0m\u001b[0m\u001b[1m\u001b[38;5;12m|\u001b[0m\u001b[0m \u001b[0m\u001b[0m    outward_normal: UnitVector3,\u001b[0m\n",
      "\u001b[0m     \u001b[0m\u001b[0m\u001b[1m\u001b[38;5;12m| \u001b[0m\u001b[0m    \u001b[0m\u001b[0m\u001b[1m\u001b[33m^^^^^^^^^^^^^^\u001b[0m\u001b[0m \u001b[0m\u001b[0m\u001b[1m\u001b[33mhelp: if this is intentional, prefix it with an underscore: `_outward_normal`\u001b[0m\n",
      "\n",
      "\u001b[K\u001b[0m\u001b[0m\u001b[1m\u001b[33mwarning\u001b[0m\u001b[1m:\u001b[0m `flow` (lib) generated 2 warnings (run `cargo fix --lib -p flow` to apply 2 suggestions)\n",
      "\u001b[0m\u001b[0m\u001b[1m\u001b[32m    Finished\u001b[0m release [optimized + debuginfo] target(s) in 13.63s\n",
      "📦 Built wheel for CPython 3.11 to /var/folders/w9/c8qym84j2pg4fjvx_bzr84bc0000gn/T/.tmpcNQ52E/flow-0.1.0-cp311-cp311-macosx_10_7_x86_64.whl\n",
      "🛠 Installed flow-0.1.0\n"
     ]
    }
   ],
   "source": [
    "!CXXFLAGS+=-stdlib=libc++ maturin develop --release"
   ]
  },
  {
   "cell_type": "code",
   "execution_count": 3,
   "metadata": {},
   "outputs": [
    {
     "name": "stderr",
     "output_type": "stream",
     "text": [
      "t: 3.5200, CFL margin: 0.7016:  88%|████████▊ | 352/400 [01:24<00:11,  4.14it/s]       \n"
     ]
    },
    {
     "data": {
      "text/html": [
       "<video src=\"videos/bump_1d.mp4\" controls  >\n",
       "      Your browser does not support the <code>video</code> element.\n",
       "    </video>"
      ],
      "text/plain": [
       "<IPython.core.display.Video object>"
      ]
     },
     "metadata": {},
     "output_type": "display_data"
    }
   ],
   "source": [
    "import contextplot\n",
    "import matplotlib\n",
    "import matplotlib.collections\n",
    "import matplotlib.patches\n",
    "import numpy as np\n",
    "import tqdm\n",
    "\n",
    "import flow\n",
    "\n",
    "contextplot.set_defaults()\n",
    "\n",
    "example = 'bump_1d'\n",
    "# example = 'singularity_1d'\n",
    "\n",
    "num_cells = 80\n",
    "solver = getattr(flow, example)(num_cells, 30)\n",
    "\n",
    "dt = 0.01\n",
    "\n",
    "with contextplot.context_video(f'videos/{example}.mp4', 1, size_inches=(5.5*2, 2.5*2), frame_rate_hz=15) as cv:\n",
    "    try:\n",
    "        bar = tqdm.tqdm(range(400))\n",
    "        for step in bar:\n",
    "            if step % 10 == 0:\n",
    "                with cv.next_frame() as cp:\n",
    "                    z_lattice = solver.z_lattice\n",
    "                    x_vertices = solver.grid.x_axis.vertices\n",
    "                    x_centers = solver.grid.x_axis.centers\n",
    "                    # pressure = solver.velocity_divergence\n",
    "                    pressure = solver.pressure\n",
    "                    velocity = solver.velocity\n",
    "\n",
    "                    poly_verts = []\n",
    "                    pressures = []\n",
    "                    for i in range(z_lattice.shape[0] - 1):\n",
    "                        for j in range(z_lattice.shape[2] - 1):\n",
    "                            poly_verts.append([\n",
    "                                [x_vertices[i], z_lattice[i, 0, j]],\n",
    "                                [x_vertices[i + 1], z_lattice[i + 1, 0, j]],\n",
    "                                [x_vertices[i + 1], z_lattice[i + 1, 0, j + 1]],\n",
    "                                [x_vertices[i], z_lattice[i, 0, j + 1]],\n",
    "                            ])\n",
    "                            pressures.append(pressure[i, 0, j, 1])\n",
    "                    poly_collection = matplotlib.collections.PolyCollection(\n",
    "                        poly_verts, closed=True, array=pressures, cmap=matplotlib.cm.viridis, edgecolors='black', linewidth=0.2, snap=True)\n",
    "                    outs = cp.ax_raw.add_collection(poly_collection)\n",
    "                    _ = cp.figure.colorbar(outs)\n",
    "\n",
    "                    cp.ax.quiver(\n",
    "                        np.broadcast_to(x_centers[:, np.newaxis], z_lattice[:-1, 0, :-1].shape),\n",
    "                        0.25 * (z_lattice[:-1, 0, :-1] + z_lattice[1:, 0, :-1] + z_lattice[:-1, 0, 1:] + z_lattice[1:, 0, 1:]),\n",
    "                        velocity[:, 0, :, 0, 0],\n",
    "                        velocity[:, 0, :, 0, 2],\n",
    "                        pivot='tail',\n",
    "                        scale=1,\n",
    "                        scale_units='inches',\n",
    "                    )\n",
    "\n",
    "                    cp.ax.plot(x_centers, 1 + solver.height_time_deriv[:, 0, 0], 'k')\n",
    "                    cp.ax.plot(x_centers, 1 + solver.height_time_deriv[:, 0, 1], 'k--')\n",
    "\n",
    "                    cp.ax.set(xlim=[solver.grid.x_axis.vertices[0], solver.grid.x_axis.vertices[-1]], ylim=[0, 1.5], aspect='equal')\n",
    "            _ = bar.set_description(f't: {step * dt:.4f}, CFL margin: {solver.courant_dt / dt:.4f}', 50)\n",
    "\n",
    "            solver.step(dt)\n",
    "    except KeyboardInterrupt:\n",
    "        pass\n",
    "    except BaseException:\n",
    "        pass"
   ]
  },
  {
   "cell_type": "code",
   "execution_count": 2,
   "metadata": {},
   "outputs": [
    {
     "data": {
      "text/plain": [
       "nan"
      ]
     },
     "execution_count": 2,
     "metadata": {},
     "output_type": "execute_result"
    }
   ],
   "source": [
    "(pressure[5, 0, 1, 1] - pressure[5, 0, 0, 1]) / (z_lattice[5, 0, 1] - z_lattice[5, 0, 0])"
   ]
  },
  {
   "cell_type": "code",
   "execution_count": null,
   "metadata": {},
   "outputs": [],
   "source": []
  }
 ],
 "metadata": {
  "kernelspec": {
   "display_name": "Python 3 (ipykernel)",
   "language": "python",
   "name": "python3"
  },
  "language_info": {
   "codemirror_mode": {
    "name": "ipython",
    "version": 3
   },
   "file_extension": ".py",
   "mimetype": "text/x-python",
   "name": "python",
   "nbconvert_exporter": "python",
   "pygments_lexer": "ipython3",
   "version": "3.11.3"
  }
 },
 "nbformat": 4,
 "nbformat_minor": 4
}
