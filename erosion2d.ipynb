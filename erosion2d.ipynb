{
 "cells": [
  {
   "cell_type": "code",
   "execution_count": 51,
   "id": "9055e352-a332-4b26-93b7-2e9f027c736e",
   "metadata": {},
   "outputs": [
    {
     "name": "stdout",
     "output_type": "stream",
     "text": [
      "Solving... \n"
     ]
    },
    {
     "name": "stderr",
     "output_type": "stream",
     "text": [
      "100% (3.0 of 3.0) |######################| Elapsed Time: 0:00:50 ETA:  00:00:00"
     ]
    },
    {
     "name": "stdout",
     "output_type": "stream",
     "text": [
      "Done, num steps: 300\n"
     ]
    }
   ],
   "source": [
    "import dataclasses\n",
    "\n",
    "from joshpyutil import mpl\n",
    "import numpy as np\n",
    "import scipy.interpolate\n",
    "import progressbar\n",
    "\n",
    "\n",
    "t_max = 3.\n",
    "t_rain_stop = 3\n",
    "lax_friedrichs_dt = 0.005\n",
    "n = 200\n",
    "terrain_r = 0.2\n",
    "terrain_h = 0.3\n",
    "gamma = 0.1\n",
    "R = 0.01\n",
    "g = 4\n",
    "\n",
    "x, dx = np.linspace(0, 1, n, retstep=True)\n",
    "y, dy = x, dx\n",
    "x_mid = (x[1:] + x[:-1]) / 2\n",
    "y_mid = x_mid\n",
    "\n",
    "xx = x[:, np.newaxis]\n",
    "yy = y[np.newaxis, :]\n",
    "\n",
    "\n",
    "def grad(field):\n",
    "    spline = scipy.interpolate.RectBivariateSpline(x, y, field, kx=3, ky=3)\n",
    "    return np.stack([spline.partial_derivative(dx=1, dy=0)(x, y), spline.partial_derivative(dx=0, dy=1)(x, y)], axis=2)\n",
    "\n",
    "\n",
    "terrain = (\n",
    "    # 1.5 * terrain_h * np.exp(-((xx - 1/2)**2 + (yy - 1/2)**2) / terrain_r**2)\n",
    "    + 1.5 * terrain_h * xx\n",
    "    + 0.3 * terrain_h * np.sin(4 * np.pi * (xx - 1/2) + 1) * np.sin(9 * np.pi * (yy - 1/3))\n",
    ")\n",
    "grad_terrain = grad(terrain)\n",
    "water = np.zeros(n)\n",
    "moment = np.zeros(n)\n",
    "\n",
    "\n",
    "@dataclasses.dataclass\n",
    "class Fields:\n",
    "    # 0: x, 1: y\n",
    "    height: np.ndarray[float]\n",
    "    # 0: x, 1: y, 2: component\n",
    "    momentum: np.ndarray[float]\n",
    "\n",
    "    def pack(self) -> np.ndarray[float]:\n",
    "        stacked = np.stack([self.height, self.momentum[:, :, 0], self.momentum[:, :, 1]], axis=2)\n",
    "        return np.ravel(stacked)\n",
    "\n",
    "    @classmethod\n",
    "    def unpack(cls, packed: np.ndarray[float]) -> 'Fields':\n",
    "        stacked = packed.reshape((n, n, 3))\n",
    "        return cls(height=stacked[:, :, 0], momentum=stacked[:, :, 1:3])\n",
    "\n",
    "    @classmethod\n",
    "    def zeros(cls) -> 'Fields':\n",
    "        return cls(height=np.zeros((n, n)), momentum=np.zeros((n, n, 2)))\n",
    "\n",
    "\n",
    "def lax_friedrichs_diff(field: np.ndarray[float]) -> np.ndarray[float]:\n",
    "    field_2nd_deriv_x = field[2:, 1:-1] + field[:-2, 1:-1] - 2 * field[1:-1, 1:-1]\n",
    "    field_2nd_deriv_y = field[1:-1, 2:] + field[1:-1, :-2] - 2 * field[1:-1, 1:-1]\n",
    "    return 1 / 2 / lax_friedrichs_dt * (field_2nd_deriv_x + field_2nd_deriv_y)\n",
    "\n",
    "\n",
    "#   0   1        n-1\n",
    "# |-*-|-*-|.....|-*-|\n",
    "# 0   1   2    n-1  n\n",
    "\n",
    "\n",
    "def interpolate_mid(field: np.ndarray[float], axis: int) -> np.ndarray[float]:\n",
    "    slice_arg = (slice(None),) * axis\n",
    "    return (field[*(slice_arg + (slice(1, None),))] + field[*(slice_arg + (slice(None, -1),))]) / 2\n",
    "\n",
    "pbar = progressbar.ProgressBar(max_value=t_max)\n",
    "\n",
    "def time_deriv_func(t, packed) -> np.ndarray:\n",
    "    pbar.update(round(t * 1e2) / 1e2)\n",
    "    \n",
    "    fields = Fields.unpack(packed)\n",
    "    \n",
    "    grad_height = grad(fields.height)\n",
    "    accel_grav = -g / (1 + np.sum((grad_height + grad_terrain)**2, axis=2))[:, :, np.newaxis] * (grad_height + grad_terrain)\n",
    "    \n",
    "    height_flux_x = interpolate_mid(fields.momentum.copy(), axis=0)\n",
    "    height_flux_y = interpolate_mid(fields.momentum.copy(), axis=1)\n",
    "    \n",
    "    velocity = fields.momentum.copy()\n",
    "    tiny_mask = fields.height < 0.001\n",
    "    velocity[tiny_mask] = 0\n",
    "    velocity[~tiny_mask] /= fields.height[~tiny_mask][:, np.newaxis]\n",
    "    momentum_flux_centers = fields.momentum[:, :, :, np.newaxis] * velocity[:, :, np.newaxis, :]\n",
    "    \n",
    "    momentum_flux_x = interpolate_mid(momentum_flux_centers, axis=0)\n",
    "    momentum_flux_y = interpolate_mid(momentum_flux_centers, axis=1)\n",
    "    \n",
    "    fields_time_deriv = Fields.zeros()\n",
    "    \n",
    "    if t < t_rain_stop:\n",
    "        rain_rate = R\n",
    "    else:\n",
    "        rain_rate = 0\n",
    "    \n",
    "    # $\\delta x \\delta y (dh/dt) = \\delta y (p_x(x+\\delta x/2,y) - p_x(x-\\delta x/2,y)) + \\delta x (p_y(x,y+\\delta y) - p_y(x,y-\\delta y))\n",
    "    fields_time_deriv.height[1:-1, :] += -1/dx * (height_flux_x[1:, :, 0] - height_flux_x[:-1, :, 0])\n",
    "    fields_time_deriv.height[:, 1:-1] += -1/dy * (height_flux_y[:, 1:, 1] - height_flux_y[:, :-1, 1])\n",
    "    fields_time_deriv.height[1:-1, 1:-1] += lax_friedrichs_diff(fields.height)\n",
    "    fields_time_deriv.height += rain_rate #* np.exp(-((xx - 1/2) / terrain_r)**2 - ((yy - 1/2) / terrain_r)**2)\n",
    "        # * np.sin((np.pi * x[1:-1] + np.pi * t) / terrain_r)**2\n",
    "    # fields_time_deriv.height[0] = fields_time_deriv.height[1]\n",
    "    # fields_time_deriv.height[-1] = fields_time_deriv.height[-2]\n",
    "    # fields_time_deriv.height[0] = water_wave_speed * grad_height[0]\n",
    "    # fields_time_deriv.height[-1] = -water_wave_speed * grad_height[-1]\n",
    "    \n",
    "    negative_mask = fields.height < -0.0001\n",
    "    fields_time_deriv.height[negative_mask] = -fields.height[negative_mask]\n",
    "    \n",
    "    fields_time_deriv.momentum[1:-1, :] += -1/dx * (momentum_flux_x[1:, :, 0] - momentum_flux_x[:-1, :, 0])\n",
    "    fields_time_deriv.momentum[:, 1:-1] += -1/dy * (momentum_flux_y[:, 1:, 1] - momentum_flux_y[:, :-1, 1])\n",
    "    fields_time_deriv.momentum[1:-1, 1:-1] += accel_grav[1:-1, 1:-1] * fields.height[1:-1, 1:-1, np.newaxis]\n",
    "    fields_time_deriv.momentum += -gamma * fields.momentum\n",
    "    fields_time_deriv.momentum[1:-1, 1:-1] += lax_friedrichs_diff(fields.momentum)\n",
    "    # fields_time_deriv.momentum[0] = fields_time_deriv.momentum[1]\n",
    "    # fields_time_deriv.momentum[-1] = fields_time_deriv.momentum[-2]\n",
    "    \n",
    "    return fields_time_deriv.pack()\n",
    "\n",
    "\n",
    "print('Solving... ', flush=True)\n",
    "init_fields = Fields.zeros()\n",
    "# slice_ = slice(10 * n // 20, 14 * n // 20)\n",
    "# init_fields.height[slice_, slice_] = terrain.max() + 0.5 - terrain[slice_, slice_]\n",
    "sol = scipy.integrate.solve_ivp(\n",
    "    time_deriv_func,\n",
    "    (0, t_max),\n",
    "    init_fields.pack(),\n",
    "    # method='LSODA',\n",
    "    # method='BDF',\n",
    "    method='RK23',\n",
    "    # method='DOP853',\n",
    "    t_eval=np.linspace(0, t_max, 300),\n",
    ")\n",
    "\n",
    "sol_interp = scipy.interpolate.interp1d(sol.t, sol.y.T, axis=0)\n",
    "\n",
    "print(f'Done, num steps: {sol.t.shape[0]}', flush=True)"
   ]
  },
  {
   "cell_type": "code",
   "execution_count": 63,
   "id": "c11912db-1c30-4f74-93b3-a5076e9ecc34",
   "metadata": {},
   "outputs": [
    {
     "data": {
      "text/plain": [
       "array([[[0.        , 0.        , 0.        , 1.        ],\n",
       "        [0.00261345, 0.        , 0.16869201, 1.        ],\n",
       "        [0.23996741, 0.56518361, 0.3660476 , 1.        ]]])"
      ]
     },
     "execution_count": 63,
     "metadata": {},
     "output_type": "execute_result"
    }
   ],
   "source": [
    "color_map([[0, 1, 100]])"
   ]
  },
  {
   "cell_type": "code",
   "execution_count": 78,
   "id": "4bc68fe7-d83d-4b80-9397-f97e98661a81",
   "metadata": {},
   "outputs": [
    {
     "name": "stderr",
     "output_type": "stream",
     "text": [
      "100% (150 of 150) |######################| Elapsed Time: 0:02:35 Time:  0:02:35\n"
     ]
    },
    {
     "data": {
      "text/html": [
       "<video src=\"video_2d.mp4\" controls  >\n",
       "      Your browser does not support the <code>video</code> element.\n",
       "    </video>"
      ],
      "text/plain": [
       "<IPython.core.display.Video object>"
      ]
     },
     "metadata": {},
     "output_type": "display_data"
    }
   ],
   "source": [
    "from matplotlib import colormaps\n",
    "\n",
    "height_scale = Fields.unpack(sol_interp(t_max)).height.max()\n",
    "color_map = colormaps.get_cmap('gist_earth')\n",
    "\n",
    "frame_rate_hz = 20\n",
    "num_frames = 150\n",
    "with mpl.autovideo('video_2d.mp4', subplot_kw={\"projection\": \"3d\"}, frame_rate_hz=frame_rate_hz, size_inches=(6, 6)) as av:\n",
    "    for i in progressbar.progressbar(range(num_frames)):\n",
    "        t = i / num_frames * t_max\n",
    "        fields = Fields.unpack(sol_interp(t))\n",
    "        \n",
    "        facecolors = color_map(((height_scale - fields.height)/height_scale)**40 + 0.2)\n",
    "        \n",
    "        # facecolors = np.empty(fields.height.shape, dtype=object)\n",
    "        # terrain_mask = fields.height < 0.005\n",
    "        # facecolors[terrain_mask] = 'sienna'\n",
    "        # facecolors[~terrain_mask] = 'dodgerblue'\n",
    "        \n",
    "        with av.next_frame() as ap:\n",
    "            # _ = ap.ax.plot_surface(xx, yy, terrain, linewidth=0, color='sienna')\n",
    "            _ = ap.ax.plot_surface(xx, yy, terrain + fields.height, linewidth=0, facecolors=facecolors, rcount=100, ccount=100)\n",
    "            _ = ap.ax.set_axis_off()\n",
    "            _ = ap.ax.set_zlim(terrain.min(), 1)\n",
    "            _ = ap.ax.view_init(elev=40., azim=90 + 30 * i/num_frames)\n",
    "            \n",
    "            # _ = ap.ax.fill_between(x, min_terrain, terrain[n//2], label='terrain', color='sienna')\n",
    "            # _ = ap.ax.fill_between(x, terrain[n//2], terrain[n//2] + fields.height[n//2], label='water', color='dodgerblue')\n",
    "\n",
    "\n",
    "\n",
    "\n",
    "\n",
    "# with mpl.autoplot(subplot_kw={\"projection\": \"3d\"}) as ap:\n",
    "#     fields = Fields.unpack(sol_interp(1))\n",
    "#     height = fields.height\n",
    "#     _ = ap.ax.plot_surface(xx, yy, terrain, cmap=cm.gist_earth)\n",
    "#     _ = ap.ax.plot_surface(xx, yy, terrain + fields.height, cmap=cm.ocean, alpha=0.5)\n",
    "#     _ = ap.ax.set_axis_off()"
   ]
  },
  {
   "cell_type": "code",
   "execution_count": 24,
   "id": "d39e6a5d-8d24-434e-bc6e-eaacf65c0a6f",
   "metadata": {},
   "outputs": [
    {
     "name": "stderr",
     "output_type": "stream",
     "text": [
      "100% (150 of 150) |######################| Elapsed Time: 0:00:49 Time:  0:00:49\n"
     ]
    },
    {
     "data": {
      "text/html": [
       "<video src=\"video_2d.mp4\" controls  >\n",
       "      Your browser does not support the <code>video</code> element.\n",
       "    </video>"
      ],
      "text/plain": [
       "<IPython.core.display.Video object>"
      ]
     },
     "metadata": {},
     "output_type": "display_data"
    }
   ],
   "source": [
    "frame_rate_hz = 20\n",
    "num_frames = 150\n",
    "with mpl.autovideo('video_2d.mp4', 3, frame_rate_hz=frame_rate_hz, size_inches=(6, 6), sharex=True) as av:\n",
    "    for i in progressbar.progressbar(range(num_frames)):\n",
    "        t = i / num_frames * t_max\n",
    "        fields = Fields.unpack(sol_interp(t))\n",
    "        fields_time_deriv = Fields.unpack(time_deriv_func(t, fields.pack()))\n",
    "        with av.next_frame() as ap:\n",
    "            # ap.plot(x, fields.height)\n",
    "            min_terrain = terrain.min()\n",
    "            _ = ap.ax.fill_between(x, min_terrain, terrain[n//2], label='terrain', color='sienna')\n",
    "            _ = ap.ax.fill_between(x, terrain[n//2], terrain[n//2] + fields.height[n//2], label='water', color='dodgerblue')\n",
    "            # if t < t_rain_stop:\n",
    "            #     _ = ap.ax.fill_between(x, terrain + fields.height, terrain.max() + 0.1, label='water', color='lightgray')\n",
    "            ap.set(xlim=[0, 1], ylim=[None, 0.3])\n",
    "            \n",
    "            ap = ap.next()\n",
    "            _ = ap.ax.fill_between(y, min_terrain, terrain[:, n//2], label='terrain', color='sienna')\n",
    "            _ = ap.ax.fill_between(y, terrain[:, n//2], terrain[:, n//2] + fields.height[:, n//2], label='water', color='dodgerblue')\n",
    "            # if t < t_rain_stop:\n",
    "            #     _ = ap.ax.fill_between(x, terrain + fields.height, terrain.max() + 0.1, label='water', color='lightgray')\n",
    "            ap.set(xlim=[0, 1], ylim=[None, 0.3])\n",
    "\n",
    "#             ap = ap.next()\n",
    "#             ap.plot(x, fields.momentum, label='$p$ (momentum density)')\n",
    "#             # ap.plot(x, fields.momentum / (fields.height + 1e-9), label='v')\n",
    "#             ap.set(ylim=[-.075, .075])\n",
    "#             ap.legend()\n",
    "            \n",
    "#             ap = ap.next()\n",
    "#             ap.plot(x, fields_time_deriv.momentum, label='$dp/dt$', color=mpl.COLORS[3])\n",
    "#             ap.set(ylim=[-.3, .3], xlabel='$x$')\n",
    "#             ap.legend()"
   ]
  },
  {
   "cell_type": "code",
   "execution_count": null,
   "id": "5510f3a8-0626-49df-9fc9-c768a07999f5",
   "metadata": {},
   "outputs": [],
   "source": []
  }
 ],
 "metadata": {
  "kernelspec": {
   "display_name": "Python 3 (ipykernel)",
   "language": "python",
   "name": "python3"
  },
  "language_info": {
   "codemirror_mode": {
    "name": "ipython",
    "version": 3
   },
   "file_extension": ".py",
   "mimetype": "text/x-python",
   "name": "python",
   "nbconvert_exporter": "python",
   "pygments_lexer": "ipython3",
   "version": "3.11.0"
  }
 },
 "nbformat": 4,
 "nbformat_minor": 5
}
