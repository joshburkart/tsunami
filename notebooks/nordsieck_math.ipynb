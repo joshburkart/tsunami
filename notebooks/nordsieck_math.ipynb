{
 "cells": [
  {
   "cell_type": "code",
   "execution_count": 30,
   "metadata": {},
   "outputs": [
    {
     "name": "stdout",
     "output_type": "stream",
     "text": [
      "qn:\n"
     ]
    },
    {
     "data": {
      "text/latex": [
       "$\\displaystyle \\left[\\begin{matrix}\\left[\\begin{matrix}h e^{h}\\\\h e^{2 h}\\\\h e^{3 h}\\end{matrix}\\right] & \\left[\\begin{matrix}0.00100100050016671\\\\0.001002002001334\\\\0.00100300450450338\\end{matrix}\\right]\\end{matrix}\\right]$"
      ],
      "text/plain": [
       "Matrix([[Matrix([\n",
       "[  h*exp(h)],\n",
       "[h*exp(2*h)],\n",
       "[h*exp(3*h)]]), Matrix([\n",
       "[0.00100100050016671],\n",
       "[  0.001002002001334],\n",
       "[0.00100300450450338]])]])"
      ]
     },
     "metadata": {},
     "output_type": "display_data"
    },
    {
     "name": "stdout",
     "output_type": "stream",
     "text": [
      "qn series:\n"
     ]
    },
    {
     "data": {
      "text/latex": [
       "$\\displaystyle \\left[\\begin{matrix}\\left[\\begin{matrix}\\frac{h^{4}}{6} + \\frac{h^{3}}{2} + h^{2} + h\\\\\\frac{4 h^{4}}{3} + 2 h^{3} + 2 h^{2} + h\\\\\\frac{9 h^{4}}{2} + \\frac{9 h^{3}}{2} + 3 h^{2} + h\\end{matrix}\\right] & \\left[\\begin{matrix}0.00100100050016667\\\\0.00100200200133333\\\\0.0010030045045\\end{matrix}\\right]\\end{matrix}\\right]$"
      ],
      "text/plain": [
       "Matrix([[Matrix([\n",
       "[      h**4/6 + h**3/2 + h**2 + h],\n",
       "[  4*h**4/3 + 2*h**3 + 2*h**2 + h],\n",
       "[9*h**4/2 + 9*h**3/2 + 3*h**2 + h]]), Matrix([\n",
       "[0.00100100050016667],\n",
       "[0.00100200200133333],\n",
       "[    0.0010030045045]])]])"
      ]
     },
     "metadata": {},
     "output_type": "display_data"
    },
    {
     "name": "stdout",
     "output_type": "stream",
     "text": [
      "rn:\n"
     ]
    },
    {
     "data": {
      "text/latex": [
       "$\\displaystyle \\left[\\begin{matrix}\\left[\\begin{matrix}\\frac{h^{2}}{2}\\\\\\frac{h^{3}}{6}\\\\\\frac{h^{4}}{24}\\end{matrix}\\right] & \\left[\\begin{matrix}5.0 \\cdot 10^{-7}\\\\1.66666666666667 \\cdot 10^{-10}\\\\4.16666666666667 \\cdot 10^{-14}\\end{matrix}\\right]\\end{matrix}\\right]$"
      ],
      "text/plain": [
       "Matrix([[Matrix([\n",
       "[ h**2/2],\n",
       "[ h**3/6],\n",
       "[h**4/24]]), Matrix([\n",
       "[              5.0e-7],\n",
       "[1.66666666666667e-10],\n",
       "[4.16666666666667e-14]])]])"
      ]
     },
     "metadata": {},
     "output_type": "display_data"
    },
    {
     "name": "stdout",
     "output_type": "stream",
     "text": [
      "s1 * u + P @ rn:\n"
     ]
    },
    {
     "data": {
      "text/latex": [
       "$\\displaystyle \\left[\\begin{matrix}\\left[\\begin{matrix}\\frac{h^{4}}{6} + \\frac{h^{3}}{2} + h^{2} + h\\\\\\frac{4 h^{4}}{3} + 2 h^{3} + 2 h^{2} + h\\\\\\frac{9 h^{4}}{2} + \\frac{9 h^{3}}{2} + 3 h^{2} + h\\end{matrix}\\right] & \\left[\\begin{matrix}0.00100100050016667\\\\0.00100200200133333\\\\0.0010030045045\\end{matrix}\\right]\\end{matrix}\\right]$"
      ],
      "text/plain": [
       "Matrix([[Matrix([\n",
       "[      h**4/6 + h**3/2 + h**2 + h],\n",
       "[  4*h**4/3 + 2*h**3 + 2*h**2 + h],\n",
       "[9*h**4/2 + 9*h**3/2 + 3*h**2 + h]]), Matrix([\n",
       "[0.00100100050016667],\n",
       "[0.00100200200133333],\n",
       "[    0.0010030045045]])]])"
      ]
     },
     "metadata": {},
     "output_type": "display_data"
    },
    {
     "name": "stdout",
     "output_type": "stream",
     "text": [
      "q - s1 * u:\n"
     ]
    },
    {
     "data": {
      "text/latex": [
       "$\\displaystyle \\left[\\begin{matrix}\\left[\\begin{matrix}h e^{h} - h\\\\h e^{2 h} - h\\\\h e^{3 h} - h\\end{matrix}\\right] & \\left[\\begin{matrix}1.00050016670831 \\cdot 10^{-6}\\\\2.00200133400026 \\cdot 10^{-6}\\\\3.00450450337704 \\cdot 10^{-6}\\end{matrix}\\right]\\end{matrix}\\right]$"
      ],
      "text/plain": [
       "Matrix([[Matrix([\n",
       "[  h*exp(h) - h],\n",
       "[h*exp(2*h) - h],\n",
       "[h*exp(3*h) - h]]), Matrix([\n",
       "[1.00050016670831e-6],\n",
       "[2.00200133400026e-6],\n",
       "[3.00450450337704e-6]])]])"
      ]
     },
     "metadata": {},
     "output_type": "display_data"
    },
    {
     "name": "stdout",
     "output_type": "stream",
     "text": [
      "Pinv:\n"
     ]
    },
    {
     "data": {
      "text/latex": [
       "$\\displaystyle \\left[\\begin{matrix}\\left[\\begin{matrix}\\frac{3}{2} & - \\frac{3}{4} & \\frac{1}{6}\\\\- \\frac{5}{6} & \\frac{2}{3} & - \\frac{1}{6}\\\\\\frac{1}{8} & - \\frac{1}{8} & \\frac{1}{24}\\end{matrix}\\right] & \\left[\\begin{matrix}1.5 & -0.75 & 0.166666666666667\\\\-0.833333333333333 & 0.666666666666667 & -0.166666666666667\\\\0.125 & -0.125 & 0.0416666666666667\\end{matrix}\\right]\\end{matrix}\\right]$"
      ],
      "text/plain": [
       "Matrix([[Matrix([\n",
       "[ 3/2, -3/4,  1/6],\n",
       "[-5/6,  2/3, -1/6],\n",
       "[ 1/8, -1/8, 1/24]]), Matrix([\n",
       "[               1.5,             -0.75,  0.166666666666667],\n",
       "[-0.833333333333333, 0.666666666666667, -0.166666666666667],\n",
       "[             0.125,            -0.125, 0.0416666666666667]])]])"
      ]
     },
     "metadata": {},
     "output_type": "display_data"
    },
    {
     "name": "stdout",
     "output_type": "stream",
     "text": [
      "Pinv @ (q - s1 * u):\n"
     ]
    },
    {
     "data": {
      "text/latex": [
       "$\\displaystyle \\left[\\begin{matrix}\\left[\\begin{matrix}\\frac{h e^{3 h}}{6} - \\frac{3 h e^{2 h}}{4} + \\frac{3 h e^{h}}{2} - \\frac{11 h}{12}\\\\- \\frac{h e^{3 h}}{6} + \\frac{2 h e^{2 h}}{3} - \\frac{5 h e^{h}}{6} + \\frac{h}{3}\\\\\\frac{h e^{3 h}}{24} - \\frac{h e^{2 h}}{8} + \\frac{h e^{h}}{8} - \\frac{h}{24}\\end{matrix}\\right] & \\left[\\begin{matrix}5.00000000125183 \\cdot 10^{-7}\\\\1.66666513706434 \\cdot 10^{-10}\\\\4.17292272242818 \\cdot 10^{-14}\\end{matrix}\\right]\\end{matrix}\\right]$"
      ],
      "text/plain": [
       "Matrix([[Matrix([\n",
       "[h*exp(3*h)/6 - 3*h*exp(2*h)/4 + 3*h*exp(h)/2 - 11*h/12],\n",
       "[   -h*exp(3*h)/6 + 2*h*exp(2*h)/3 - 5*h*exp(h)/6 + h/3],\n",
       "[      h*exp(3*h)/24 - h*exp(2*h)/8 + h*exp(h)/8 - h/24]]), Matrix([\n",
       "[ 5.00000000125183e-7],\n",
       "[1.66666513706434e-10],\n",
       "[4.17292272242818e-14]])]])"
      ]
     },
     "metadata": {},
     "output_type": "display_data"
    }
   ],
   "source": [
    "from IPython.display import display\n",
    "from sympy import *\n",
    "from sympy.abc import h\n",
    "\n",
    "h_val = 1e-3\n",
    "\n",
    "def show(name, matrix):\n",
    "    evaluated = N(matrix.subs(h, h_val))\n",
    "    print(f\"{name}:\")\n",
    "    display(BlockMatrix([matrix, evaluated]))\n",
    "\n",
    "def check(k):\n",
    "    P = Matrix([[(j + 1) * i**j for j in range(1, k)] for i in range(1, k)])\n",
    "    qn = Matrix([h * exp(i * h) for i in range(1, k)])\n",
    "    show(\"qn\", qn)\n",
    "    show(\"qn series\", Matrix([series(qni, h, 0, k + 1).removeO() for qni in qn]))\n",
    "    s1 = h\n",
    "    u = Matrix([1 for _ in range(1, k)])\n",
    "    rn = Matrix([h**i / factorial(i) for i in range(2, k + 1)])\n",
    "    show(\"rn\", rn)\n",
    "    show(\"s1 * u + P @ rn\", s1 * u + P @ rn)\n",
    "    show(\"q - s1 * u\", qn - s1 * u)\n",
    "    show(\"Pinv\", P.inv())\n",
    "    show(\"Pinv @ (q - s1 * u)\", P.inv() @ (qn - s1 * u))\n",
    "\n",
    "check(4)"
   ]
  }
 ],
 "metadata": {
  "kernelspec": {
   "display_name": ".venv",
   "language": "python",
   "name": "python3"
  },
  "language_info": {
   "codemirror_mode": {
    "name": "ipython",
    "version": 3
   },
   "file_extension": ".py",
   "mimetype": "text/x-python",
   "name": "python",
   "nbconvert_exporter": "python",
   "pygments_lexer": "ipython3",
   "version": "3.11.9"
  }
 },
 "nbformat": 4,
 "nbformat_minor": 2
}
