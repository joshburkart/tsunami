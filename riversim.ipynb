{
 "cells": [
  {
   "cell_type": "code",
   "execution_count": 2,
   "metadata": {},
   "outputs": [
    {
     "name": "stdout",
     "output_type": "stream",
     "text": [
      "🔗 Found pyo3 bindings\n",
      "🐍 Found CPython 3.11 at /Users/josh/josh/projects/tech/riversim/.venv/bin/python\n",
      "💻 Using `MACOSX_DEPLOYMENT_TARGET=10.7` for x86_64-apple-darwin by default\n",
      "\u001b[0m\u001b[0m\u001b[1m\u001b[32m   Compiling\u001b[0m riversim v0.1.0 (/Users/josh/josh/projects/tech/riversim)\n",
      "\u001b[K\u001b[0m\u001b[1m\u001b[33mwarning\u001b[0m\u001b[0m\u001b[1m: unused variable: `old_h`\u001b[0m/217: riversim                    \n",
      "\u001b[0m   \u001b[0m\u001b[0m\u001b[1m\u001b[38;5;12m--> \u001b[0m\u001b[0msrc/physics.rs:144:17\u001b[0m\n",
      "\u001b[0m    \u001b[0m\u001b[0m\u001b[1m\u001b[38;5;12m|\u001b[0m\n",
      "\u001b[0m\u001b[1m\u001b[38;5;12m144\u001b[0m\u001b[0m \u001b[0m\u001b[0m\u001b[1m\u001b[38;5;12m|\u001b[0m\u001b[0m \u001b[0m\u001b[0m            let old_h = self\u001b[0m\n",
      "\u001b[0m    \u001b[0m\u001b[0m\u001b[1m\u001b[38;5;12m| \u001b[0m\u001b[0m                \u001b[0m\u001b[0m\u001b[1m\u001b[33m^^^^^\u001b[0m\u001b[0m \u001b[0m\u001b[0m\u001b[1m\u001b[33mhelp: if this is intentional, prefix it with an underscore: `_old_h`\u001b[0m\n",
      "\u001b[0m    \u001b[0m\u001b[0m\u001b[1m\u001b[38;5;12m|\u001b[0m\n",
      "\u001b[0m    \u001b[0m\u001b[0m\u001b[1m\u001b[38;5;12m= \u001b[0m\u001b[0m\u001b[1mnote\u001b[0m\u001b[0m: `#[warn(unused_variables)]` on by default\u001b[0m\n",
      "\n",
      "\u001b[K\u001b[0m\u001b[1m\u001b[33mwarning\u001b[0m\u001b[0m\u001b[1m: unused variable: `cell_index`\u001b[0m riversim                    \n",
      "\u001b[0m   \u001b[0m\u001b[0m\u001b[1m\u001b[38;5;12m--> \u001b[0m\u001b[0msrc/physics.rs:155:17\u001b[0m\n",
      "\u001b[0m    \u001b[0m\u001b[0m\u001b[1m\u001b[38;5;12m|\u001b[0m\n",
      "\u001b[0m\u001b[1m\u001b[38;5;12m155\u001b[0m\u001b[0m \u001b[0m\u001b[0m\u001b[1m\u001b[38;5;12m|\u001b[0m\u001b[0m \u001b[0m\u001b[0m            for cell_index in self\u001b[0m\n",
      "\u001b[0m    \u001b[0m\u001b[0m\u001b[1m\u001b[38;5;12m| \u001b[0m\u001b[0m                \u001b[0m\u001b[0m\u001b[1m\u001b[33m^^^^^^^^^^\u001b[0m\u001b[0m \u001b[0m\u001b[0m\u001b[1m\u001b[33mhelp: if this is intentional, prefix it with an underscore: `_cell_index`\u001b[0m\n",
      "\n",
      "\u001b[K\u001b[0m\u001b[0m\u001b[1m\u001b[33mwarning\u001b[0m\u001b[1m:\u001b[0m `riversim` (lib) generated 2 warnings (run `cargo fix --lib -p riversim` to apply 2 suggestions)\n",
      "\u001b[0m\u001b[0m\u001b[1m\u001b[32m    Finished\u001b[0m release [optimized] target(s) in 10.13s\n",
      "📦 Built wheel for CPython 3.11 to /var/folders/w9/c8qym84j2pg4fjvx_bzr84bc0000gn/T/.tmpgxdZbR/riversim-0.1.0-cp311-cp311-macosx_10_7_x86_64.whl\n",
      "🛠 Installed riversim-0.1.0\n"
     ]
    }
   ],
   "source": [
    "!CXXFLAGS+=-stdlib=libc++ maturin develop --release"
   ]
  },
  {
   "cell_type": "code",
   "execution_count": 2,
   "metadata": {},
   "outputs": [
    {
     "name": "stderr",
     "output_type": "stream",
     "text": [
      "  0%|          | 0/2000 [00:00<?, ?it/s]"
     ]
    },
    {
     "name": "stderr",
     "output_type": "stream",
     "text": [
      "t: 1.9800, Courant margin: 58.1548: 100%|██████████| 2000/2000 [00:28<00:00, 70.02it/s]      \n"
     ]
    },
    {
     "data": {
      "text/html": [
       "<video src=\"advection_1d.mp4\" controls  >\n",
       "      Your browser does not support the <code>video</code> element.\n",
       "    </video>"
      ],
      "text/plain": [
       "<IPython.core.display.Video object>"
      ]
     },
     "metadata": {},
     "output_type": "display_data"
    }
   ],
   "source": [
    "import contextplot\n",
    "import matplotlib\n",
    "import matplotlib.collections\n",
    "import matplotlib.patches\n",
    "import numpy as np\n",
    "import tqdm\n",
    "\n",
    "import riversim\n",
    "\n",
    "contextplot.set_defaults()\n",
    "\n",
    "example = 'advection_1d'\n",
    "# example = 'singularity_1d'\n",
    "\n",
    "num_cells = 30\n",
    "solver = getattr(riversim, example)(num_cells, 10)\n",
    "\n",
    "dt = 0.001\n",
    "\n",
    "with contextplot.context_video(f'{example}.mp4', 1, size_inches=(8, 3), frame_rate_hz=20) as cv:\n",
    "    bar = tqdm.tqdm(range(2000))\n",
    "    for step in bar:\n",
    "        if step % 20 == 0:\n",
    "            with cv.next_frame() as cp:\n",
    "                z_lattice = solver.z_lattice\n",
    "                x_vertices = solver.grid.x_axis.vertices\n",
    "                x_centers = solver.grid.x_axis.centers\n",
    "                pressure = solver.pressure\n",
    "                velocity = solver.velocity\n",
    "\n",
    "                poly_verts = []\n",
    "                pressures = []\n",
    "                for i in range(z_lattice.shape[0] - 1):\n",
    "                    for j in range(z_lattice.shape[2] - 1):\n",
    "                        poly_verts.append([\n",
    "                            [x_vertices[i], z_lattice[i, 0, j]],\n",
    "                            [x_vertices[i + 1], z_lattice[i + 1, 0, j]],\n",
    "                            [x_vertices[i + 1], z_lattice[i + 1, 0, j + 1]],\n",
    "                            [x_vertices[i], z_lattice[i, 0, j + 1]],\n",
    "                        ])\n",
    "                        pressures.append(pressure[i, 0, j, 1])\n",
    "                poly_collection = matplotlib.collections.PolyCollection(\n",
    "                    poly_verts, closed=True, array=pressures, cmap=matplotlib.cm.viridis, edgecolors='black', linewidth=0.2, snap=True)\n",
    "                outs = cp.ax_raw.add_collection(poly_collection)\n",
    "                _ = cp.figure.colorbar(outs)\n",
    "\n",
    "                cp.ax.quiver(\n",
    "                    np.broadcast_to(x_centers[:, np.newaxis], z_lattice[:-1, 0, :-1].shape),\n",
    "                    0.25 * (z_lattice[:-1, 0, :-1] + z_lattice[1:, 0, :-1] + z_lattice[:-1, 0, 1:] + z_lattice[1:, 0, 1:]),\n",
    "                    velocity[:, 0, :, 0, 0],\n",
    "                    velocity[:, 0, :, 0, 2],\n",
    "                    pivot='tail',\n",
    "                    scale=1,\n",
    "                    scale_units='inches',\n",
    "                )\n",
    "\n",
    "                cp.ax.set(xlim=[solver.grid.x_axis.vertices[0], solver.grid.x_axis.vertices[-1]], ylim=[0, 1.5])\n",
    "                _ = bar.set_description(f't: {step * dt:.4f}, Courant margin: {solver.courant_dt / dt:.4f}', 50)\n",
    "\n",
    "        try:\n",
    "            solver.step(dt)\n",
    "        except:\n",
    "            break"
   ]
  },
  {
   "cell_type": "code",
   "execution_count": 2,
   "metadata": {},
   "outputs": [
    {
     "data": {
      "text/plain": [
       "-2539.701243732179"
      ]
     },
     "execution_count": 2,
     "metadata": {},
     "output_type": "execute_result"
    }
   ],
   "source": [
    "(pressure[5, 0, 1, 1] - pressure[5, 0, 0, 1]) / (z_lattice[5, 0, 1] - z_lattice[5, 0, 0])"
   ]
  }
 ],
 "metadata": {
  "kernelspec": {
   "display_name": "Python 3 (ipykernel)",
   "language": "python",
   "name": "python3"
  },
  "language_info": {
   "codemirror_mode": {
    "name": "ipython",
    "version": 3
   },
   "file_extension": ".py",
   "mimetype": "text/x-python",
   "name": "python",
   "nbconvert_exporter": "python",
   "pygments_lexer": "ipython3",
   "version": "3.11.3"
  }
 },
 "nbformat": 4,
 "nbformat_minor": 4
}
