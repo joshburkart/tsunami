{
 "cells": [
  {
   "cell_type": "code",
   "execution_count": 2,
   "metadata": {},
   "outputs": [
    {
     "name": "stdout",
     "output_type": "stream",
     "text": [
      "🔗 Found pyo3 bindings\n",
      "🐍 Found CPython 3.11 at /Users/josh/josh/projects/tech/riversim/.venv/bin/python\n",
      "💻 Using `MACOSX_DEPLOYMENT_TARGET=10.7` for x86_64-apple-darwin by default\n",
      "\u001b[0m\u001b[0m\u001b[1m\u001b[32m   Compiling\u001b[0m riversim v0.1.0 (/Users/josh/josh/projects/tech/riversim)\n",
      "\u001b[K\u001b[0m\u001b[0m\u001b[1m\u001b[32m    Finished\u001b[0m release [optimized + debuginfo] target(s) in 11.70s              \n",
      "📦 Built wheel for CPython 3.11 to /var/folders/w9/c8qym84j2pg4fjvx_bzr84bc0000gn/T/.tmp0APBzp/riversim-0.1.0-cp311-cp311-macosx_10_7_x86_64.whl\n",
      "🛠 Installed riversim-0.1.0\n"
     ]
    }
   ],
   "source": [
    "!CXXFLAGS+=-stdlib=libc++ maturin develop --release"
   ]
  },
  {
   "cell_type": "code",
   "execution_count": 1,
   "metadata": {},
   "outputs": [
    {
     "name": "stderr",
     "output_type": "stream",
     "text": [
      "t: 1.7800, Courant margin: 4.4910:  90%|████████▉ | 896/1000 [00:55<01:39,  1.05it/s]        thread '<unnamed>' panicked at 'called `Result::unwrap()` on an `Err` value: MaxItersReached { rel_error: Some(NaN), abs_error: NaN, rel_error_tol: 0.1, abs_error_tol: 980.0000000000001, iters: 100000 }', src/physics.rs:249:14\n",
      "t: 1.7800, Courant margin: 4.4910:  90%|████████▉ | 896/1000 [01:07<00:07, 13.26it/s]stack backtrace:\n",
      "   0: rust_begin_unwind\n",
      "             at /rustc/90c541806f23a127002de5b4038be731ba1458ca/library/std/src/panicking.rs:578:5\n",
      "   1: core::panicking::panic_fmt\n",
      "             at /rustc/90c541806f23a127002de5b4038be731ba1458ca/library/core/src/panicking.rs:67:14\n",
      "   2: core::result::unwrap_failed\n",
      "             at /rustc/90c541806f23a127002de5b4038be731ba1458ca/library/core/src/result.rs:1687:5\n",
      "   3: core::result::Result<T,E>::unwrap\n",
      "             at /rustc/90c541806f23a127002de5b4038be731ba1458ca/library/core/src/result.rs:1089:23\n",
      "   4: riversim::physics::Solver::compute_pressure\n",
      "             at ./src/physics.rs:242:9\n",
      "   5: riversim::physics::Solver::step\n",
      "             at ./src/physics.rs:197:32\n",
      "   6: riversim::physics::Solver::step_py\n",
      "             at ./src/physics.rs:285:9\n",
      "   7: riversim::physics::_::<impl riversim::physics::Solver>::__pymethod_step__\n",
      "             at ./src/physics.rs:252:1\n",
      "   8: pyo3::impl_::trampoline::fastcall_with_keywords::{{closure}}\n",
      "             at /Users/\n",
      "josh/.cargo/registry/src/index.crates.io-6f17d22bba15001f/pyo3-0.19.1/src/impl_/trampoline.rs:41:35\n",
      "   9: pyo3::impl_::trampoline::trampoline_inner::{{closure}}\n",
      "             at /Users/josh/.cargo/registry/src/index.crates.io-6f17d22bba15001f/pyo3-0.19.1/src/impl_/trampoline.rs:181:54\n",
      "  10: std::panicking::try::do_call\n",
      "             at /rustc/90c541806f23a127002de5b4038be731ba1458ca/library/std/src/panicking.rs:485:40\n",
      "  11: std::panicking::try\n",
      "             at /rustc/90c541806f23a127002de5b4038be731ba1458ca/library/std/src/panicking.rs:449:19\n",
      "  12: std::panic::catch_unwind\n",
      "             at /rustc/90c541806f23a127002de5b4038be731ba1458ca/library/std/src/panic.rs:140:14\n",
      "  13: pyo3::impl_::trampoline::trampoline_inner\n",
      "             at /Users/josh/.cargo/registry/src/index.crates.io-6f17d22bba15001f/pyo3-0.19.1/src/impl_/trampoline.rs:181:9\n",
      "  14: pyo3::impl_::trampoline::fastcall_with_keywords\n",
      "             at /Users/josh/.cargo/registry/src/index.crates.io-6f17d22bba15001f/pyo3-0.19.1/src/impl_/trampoline.rs:41:13\n",
      "  15: riversim::physics::_::<impl pyo3::impl_::pyclass::PyMethods<riversim::physics::Solver> for pyo3::impl_::pyclass::PyClassImplCollector<riversim::physics::Solver>>::py_methods::ITEMS::trampoline\n",
      "             at ./src/physics.rs:252:1\n",
      "  16: __PyEval_EvalFrameDefault\n",
      "  17: _PyEval_EvalCode\n",
      "  18: _builtin_exec\n",
      "  19: __PyEval_EvalFrameDefault\n",
      "  20: _gen_send_ex2\n",
      "  21: __PyEval_EvalFrameDefault\n",
      "  22: _gen_send_ex2\n",
      "  23: __PyEval_EvalFrameDefault\n",
      "  24: _gen_send_ex2\n",
      "  25: _gen_send_ex\n",
      "  26: _method_vectorcall_O\n",
      "  27: __PyEval_EvalFrameDefault\n",
      "  28: __PyEval_Vector\n",
      "  29: _method_vectorcall\n",
      "  30: __PyVectorcall_Call\n",
      "  31: __PyEval_EvalFrameDefault\n",
      "  32: _gen_send_ex2\n",
      "  33: __PyEval_EvalFrameDefault\n",
      "  34: _gen_send_ex2\n",
      "  35: __PyEval_EvalFrameDefault\n",
      "  36: _gen_send_ex2\n",
      "  37: __PyEval_EvalFrameDefault\n",
      "  38: _gen_send_ex2\n",
      "  39: __PyEval_EvalFrameDefault\n",
      "  40: _gen_send_ex2\n",
      "  41: _task_step_impl\n",
      "  42: _task_step\n",
      "  43: _task_wakeup\n",
      "  44: _cfunction_vectorcall_O\n",
      "  45: __PyObject_VectorcallTstate.4592\n",
      "  46: _context_run\n",
      "  47: _cfunction_vectorcall_FASTCALL_KEYWORDS\n",
      "  48: __PyEval_EvalFrameDefault\n",
      "  49: _PyEval_EvalCode\n",
      "  50: _builtin_exec\n",
      "  51: _cfunction_vectorcall_FASTCALL_KEYWORDS\n",
      "  52: __PyEval_EvalFrameDefault\n",
      "  53: __PyEval_Vector\n",
      "  54: _pymain_run_module\n",
      "  55: _Py_RunMain\n",
      "  56: _pymain_main\n",
      "  57: _Py_BytesMain\n",
      "note: Some details are omitted, run with `RUST_BACKTRACE=full` for a verbose backtrace.\n"
     ]
    },
    {
     "data": {
      "text/html": [
       "<video src=\"bump_1d.mp4\" controls  >\n",
       "      Your browser does not support the <code>video</code> element.\n",
       "    </video>"
      ],
      "text/plain": [
       "<IPython.core.display.Video object>"
      ]
     },
     "metadata": {},
     "output_type": "display_data"
    }
   ],
   "source": [
    "import contextplot\n",
    "import matplotlib\n",
    "import matplotlib.collections\n",
    "import matplotlib.patches\n",
    "import numpy as np\n",
    "import tqdm\n",
    "\n",
    "import riversim\n",
    "\n",
    "contextplot.set_defaults()\n",
    "\n",
    "example = 'bump_1d'\n",
    "# example = 'singularity_1d'\n",
    "\n",
    "num_cells = 60\n",
    "solver = getattr(riversim, example)(num_cells, 20)\n",
    "\n",
    "dt = 0.002\n",
    "\n",
    "with contextplot.context_video(f'{example}.mp4', 1, size_inches=(8, 2.5), frame_rate_hz=20) as cv:\n",
    "    bar = tqdm.tqdm(range(1000))\n",
    "    for step in bar:\n",
    "        if step % 10 == 0:\n",
    "            with cv.next_frame() as cp:\n",
    "                z_lattice = solver.z_lattice\n",
    "                x_vertices = solver.grid.x_axis.vertices\n",
    "                x_centers = solver.grid.x_axis.centers\n",
    "                pressure = solver.pressure\n",
    "                velocity = solver.velocity\n",
    "\n",
    "                poly_verts = []\n",
    "                pressures = []\n",
    "                for i in range(z_lattice.shape[0] - 1):\n",
    "                    for j in range(z_lattice.shape[2] - 1):\n",
    "                        poly_verts.append([\n",
    "                            [x_vertices[i], z_lattice[i, 0, j]],\n",
    "                            [x_vertices[i + 1], z_lattice[i + 1, 0, j]],\n",
    "                            [x_vertices[i + 1], z_lattice[i + 1, 0, j + 1]],\n",
    "                            [x_vertices[i], z_lattice[i, 0, j + 1]],\n",
    "                        ])\n",
    "                        pressures.append(pressure[i, 0, j, 1])\n",
    "                poly_collection = matplotlib.collections.PolyCollection(\n",
    "                    poly_verts, closed=True, array=pressures, cmap=matplotlib.cm.viridis, edgecolors='black', linewidth=0.2, snap=True)\n",
    "                outs = cp.ax_raw.add_collection(poly_collection)\n",
    "                _ = cp.figure.colorbar(outs)\n",
    "\n",
    "                cp.ax.quiver(\n",
    "                    np.broadcast_to(x_centers[:, np.newaxis], z_lattice[:-1, 0, :-1].shape),\n",
    "                    0.25 * (z_lattice[:-1, 0, :-1] + z_lattice[1:, 0, :-1] + z_lattice[:-1, 0, 1:] + z_lattice[1:, 0, 1:]),\n",
    "                    velocity[:, 0, :, 0, 0],\n",
    "                    velocity[:, 0, :, 0, 2],\n",
    "                    pivot='tail',\n",
    "                    scale=1,\n",
    "                    scale_units='inches',\n",
    "                )\n",
    "\n",
    "                cp.ax.set(xlim=[solver.grid.x_axis.vertices[0], solver.grid.x_axis.vertices[-1]], ylim=[0, 1.5], aspect='equal')\n",
    "                _ = bar.set_description(f't: {step * dt:.4f}, Courant margin: {solver.courant_dt / dt:.4f}', 50)\n",
    "\n",
    "        try:\n",
    "            solver.step(dt)\n",
    "        except:\n",
    "            break"
   ]
  },
  {
   "cell_type": "code",
   "execution_count": 2,
   "metadata": {},
   "outputs": [
    {
     "data": {
      "text/plain": [
       "-9755.998464128003"
      ]
     },
     "execution_count": 2,
     "metadata": {},
     "output_type": "execute_result"
    }
   ],
   "source": [
    "(pressure[5, 0, 1, 1] - pressure[5, 0, 0, 1]) / (z_lattice[5, 0, 1] - z_lattice[5, 0, 0])"
   ]
  }
 ],
 "metadata": {
  "kernelspec": {
   "display_name": "Python 3 (ipykernel)",
   "language": "python",
   "name": "python3"
  },
  "language_info": {
   "codemirror_mode": {
    "name": "ipython",
    "version": 3
   },
   "file_extension": ".py",
   "mimetype": "text/x-python",
   "name": "python",
   "nbconvert_exporter": "python",
   "pygments_lexer": "ipython3",
   "version": "3.11.3"
  }
 },
 "nbformat": 4,
 "nbformat_minor": 4
}
