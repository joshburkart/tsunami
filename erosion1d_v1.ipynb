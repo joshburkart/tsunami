{
 "cells": [
  {
   "cell_type": "code",
   "execution_count": 4,
   "id": "896c940d-f55a-439c-af1f-8842dedf05da",
   "metadata": {},
   "outputs": [
    {
     "name": "stderr",
     "output_type": "stream",
     "text": [
      "100%|███████████████████████████████████████████████████████████████████████████████████████████████████████████████████████████████████████████████████████████| 100000/100000 [01:06<00:00, 1511.81it/s]\n"
     ]
    },
    {
     "data": {
      "text/html": [
       "<video src=\"video.mp4\" controls  >\n",
       "      Your browser does not support the <code>video</code> element.\n",
       "    </video>"
      ],
      "text/plain": [
       "<IPython.core.display.Video object>"
      ]
     },
     "metadata": {},
     "output_type": "display_data"
    },
    {
     "name": "stdout",
     "output_type": "stream",
     "text": [
      "t: 0.9999999999980838\n",
      "water.max(): 0.2369031508335932\n"
     ]
    }
   ],
   "source": [
    "from joshpyutil import mpl\n",
    "import numpy as np\n",
    "import scipy.interpolate\n",
    "import tqdm\n",
    "\n",
    "\n",
    "n = 2000\n",
    "N = 100000\n",
    "terrain_r = 0.2\n",
    "terrain_h = 0.3\n",
    "gamma = 2\n",
    "R = 0.00001\n",
    "g = 1000\n",
    "\n",
    "x, delta_x = np.linspace(0, 1, n, retstep=True)\n",
    "\n",
    "\n",
    "def grad(field):\n",
    "    spline = scipy.interpolate.InterpolatedUnivariateSpline(x, field)\n",
    "    return spline.derivative()(x)\n",
    "\n",
    "\n",
    "terrain = (\n",
    "    terrain_h * np.exp(-(x - 1/2)**2 / terrain_r**2)\n",
    "    + 0.4 * terrain_h * np.sin(14 * np.pi * (x - 1/2) + 1)\n",
    ")\n",
    "grad_terrain = grad(terrain)\n",
    "water = np.zeros(n)\n",
    "moment = np.zeros(n)\n",
    "\n",
    "t = 0\n",
    "with mpl.autovideo('video.mp4', 3, frame_rate_hz=10, size_inches=(6, 6), sharex=True) as av:\n",
    "    for i in tqdm.tqdm(range(N)):\n",
    "        dt = 0.00001\n",
    "        t += dt\n",
    "\n",
    "        grad_water = grad(water)\n",
    "        accel_grav = -g / (1 + (grad_water + grad_terrain)**2) * (grad_water + grad_terrain)\n",
    "\n",
    "        water_flux = moment.copy()\n",
    "        velocity = moment.copy()\n",
    "        tiny_mask = water < 0.001\n",
    "        velocity[tiny_mask] = 0\n",
    "        velocity[~tiny_mask] /= water[~tiny_mask]\n",
    "        moment_flux = moment * velocity\n",
    "\n",
    "        # Lax method.\n",
    "        new_water = np.zeros_like(water)\n",
    "        new_water[1:-1] = 1/2 * (water[:-2] + water[2:])\n",
    "        new_water[1:-1] -= dt/2 * 1/delta_x * (water_flux[2:] - water_flux[:-2])\n",
    "        new_water[0] = new_water[1]\n",
    "        new_water[-1] = new_water[-2]\n",
    "        if True:\n",
    "            new_water[3 * n // 7:4 * n // 7] += R\n",
    "        new_water[new_water < 0] = 0\n",
    "        water[:] = new_water\n",
    "\n",
    "        # Lax method.\n",
    "        new_moment = np.zeros(n)\n",
    "        new_moment[1:-1] = 1/2 * (moment[:-2] + moment[2:])\n",
    "        new_moment[1:-1] -= dt/2 * 1/delta_x * (moment_flux[2:] - moment_flux[:-2])\n",
    "        water_cutoff = 0.01\n",
    "        new_moment += dt * (water * (water < water_cutoff) + water_cutoff * (water >= water_cutoff)) * accel_grav\n",
    "        new_moment -= dt * gamma * moment[:]\n",
    "        new_moment[0] = new_moment[1]\n",
    "        new_moment[-1] = new_moment[-2]\n",
    "        if new_moment[0] > 0:\n",
    "            new_moment[0] = 0\n",
    "        if new_moment[-1] < 0:\n",
    "            new_moment[-1] = 0\n",
    "        moment[:] = new_moment\n",
    "\n",
    "        if i % (N // 100) == 0:\n",
    "            with av.next_frame() as ap:\n",
    "                min_terrain = terrain.min()\n",
    "                _ = ap.ax.fill_between(x, min_terrain, terrain, label='terrain', color='sienna')\n",
    "                _ = ap.ax.fill_between(x, terrain, terrain + water, label='water', color='lightblue')\n",
    "                ap.set(xlim=[0, 1])\n",
    "\n",
    "                ap = ap.next()\n",
    "                ap.plot(x, moment, label='p')\n",
    "                ap.legend()\n",
    "\n",
    "                ap = ap.next()\n",
    "                # ap.plot(\n",
    "                #     x[1:-1],\n",
    "                #     (water[1:-1] * accel_grav[1:-1])*dt\n",
    "                #     - (1/2 * 1/delta_x * (moment_flux[2:] - moment_flux[:-2]))*dt,\n",
    "                #     label=r'$dp/dt \\Delta t$')\n",
    "                ap.plot(\n",
    "                    x,\n",
    "                    new_moment - moment,\n",
    "                    label=r'$dp/dt \\Delta t$')\n",
    "                ap.legend()\n",
    "\n",
    "print('t:', t)\n",
    "print('water.max():', water.max())"
   ]
  },
  {
   "cell_type": "code",
   "execution_count": null,
   "id": "33a32df5-61da-4943-a056-eeef01445595",
   "metadata": {},
   "outputs": [],
   "source": []
  }
 ],
 "metadata": {
  "kernelspec": {
   "display_name": "Python 3 (ipykernel)",
   "language": "python",
   "name": "python3"
  },
  "language_info": {
   "codemirror_mode": {
    "name": "ipython",
    "version": 3
   },
   "file_extension": ".py",
   "mimetype": "text/x-python",
   "name": "python",
   "nbconvert_exporter": "python",
   "pygments_lexer": "ipython3",
   "version": "3.11.0"
  }
 },
 "nbformat": 4,
 "nbformat_minor": 5
}
