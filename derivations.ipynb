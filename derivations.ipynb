{
 "cells": [
  {
   "cell_type": "code",
   "execution_count": 10,
   "id": "cb9620fb-237e-4740-bbef-b1119e42ba9d",
   "metadata": {},
   "outputs": [
    {
     "data": {
      "text/plain": [
       "True"
      ]
     },
     "execution_count": 10,
     "metadata": {},
     "output_type": "execute_result"
    },
    {
     "data": {
      "text/plain": [
       "True"
      ]
     },
     "execution_count": 10,
     "metadata": {},
     "output_type": "execute_result"
    },
    {
     "data": {
      "text/plain": [
       "True"
      ]
     },
     "execution_count": 10,
     "metadata": {},
     "output_type": "execute_result"
    }
   ],
   "source": [
    "import sympy\n",
    "\n",
    "a, b, x, y, w, z = sympy.symbols('a b x y w z')\n",
    "\n",
    "h = 1 + a*x + b*y**2\n",
    "H = -7 + a * b * x**3 * y\n",
    "f = x**2 + y**3 + (w * h + H)**2\n",
    "\n",
    "hx = sympy.diff(h, x)\n",
    "hxx = sympy.diff(h, x, x)\n",
    "hy = sympy.diff(h, y)\n",
    "hyy = sympy.diff(h, y, y)\n",
    "Hx = sympy.diff(H, x)\n",
    "Hxx = sympy.diff(H, x, x)\n",
    "Hy = sympy.diff(H, y)\n",
    "Hyy = sympy.diff(H, y, y)\n",
    "wx = -(w * hx + Hx) / h\n",
    "wy = -(w * hy + Hy) / h\n",
    "wz = 1 / h\n",
    "wxx = sympy.diff(wx, x)\n",
    "wxw = sympy.diff(wx, w)\n",
    "wyy = sympy.diff(wy, y)\n",
    "wyw = sympy.diff(wy, w)\n",
    "\n",
    "f2 = sympy.simplify(f.subs(w, (z - H) / h))\n",
    "\n",
    "sympy.simplify(\n",
    "    sympy.diff(f, x, x) + sympy.diff(f, y, y) + (wx**2 + wy**2 + wz**2) * sympy.diff(f, w, w)\n",
    "    + 2 * (wx * sympy.diff(f, w, x) + wy * sympy.diff(f, w, y))\n",
    "    + (wxx + wx*wxw + wyy + wy*wyw) * sympy.diff(f, w)\n",
    ") == sympy.simplify(sympy.diff(f2, x, x) + sympy.diff(f2, y, y) + sympy.diff(f2, z, z))\n",
    "\n",
    "sympy.simplify(wxx) == sympy.simplify(\n",
    "    -(w * hxx + Hxx) / h + (w * hx + Hx) * hx / h**2\n",
    ")\n",
    "\n",
    "wxw == -hx / h"
   ]
  },
  {
   "cell_type": "code",
   "execution_count": null,
   "id": "26db30e2-68ac-4052-b390-b68c9e2f396e",
   "metadata": {},
   "outputs": [],
   "source": []
  }
 ],
 "metadata": {
  "kernelspec": {
   "display_name": "Python 3 (ipykernel)",
   "language": "python",
   "name": "python3"
  },
  "language_info": {
   "codemirror_mode": {
    "name": "ipython",
    "version": 3
   },
   "file_extension": ".py",
   "mimetype": "text/x-python",
   "name": "python",
   "nbconvert_exporter": "python",
   "pygments_lexer": "ipython3",
   "version": "3.11.3"
  }
 },
 "nbformat": 4,
 "nbformat_minor": 5
}
